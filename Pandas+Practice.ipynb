{
  "cells": [
    {
      "cell_type": "markdown",
      "metadata": {
        "id": "view-in-github",
        "colab_type": "text"
      },
      "source": [
        "<a href=\"https://colab.research.google.com/github/asmaaahmedm/lab/blob/main/Pandas%2BPractice.ipynb\" target=\"_parent\"><img src=\"https://colab.research.google.com/assets/colab-badge.svg\" alt=\"Open In Colab\"/></a>"
      ]
    },
    {
      "cell_type": "markdown",
      "metadata": {
        "collapsed": true,
        "jupyter": {
          "outputs_hidden": true
        },
        "id": "j5qZyTAJ_Amm"
      },
      "source": [
        "# Part 1"
      ]
    },
    {
      "cell_type": "markdown",
      "metadata": {
        "id": "nljQRQ7q_Amz"
      },
      "source": [
        "The file \"Purchase_Data.csv\" contains purchase data at a Chinese supermarket for various products.  Read this csv into a dataframe called df_data and use the head() method to check that you have read in the data correctly. Make sure you import pandas."
      ]
    },
    {
      "cell_type": "code",
      "source": [
        "from google.colab import drive\n",
        "drive.mount('/content/drive')"
      ],
      "metadata": {
        "colab": {
          "base_uri": "https://localhost:8080/"
        },
        "id": "9_zV-pACAurg",
        "outputId": "3725d53a-fa0f-457c-ed11-b3ec9abb9cd2"
      },
      "execution_count": 2,
      "outputs": [
        {
          "output_type": "stream",
          "name": "stdout",
          "text": [
            "Mounted at /content/drive\n"
          ]
        }
      ]
    },
    {
      "cell_type": "code",
      "execution_count": 3,
      "metadata": {
        "jupyter": {
          "outputs_hidden": false
        },
        "colab": {
          "base_uri": "https://localhost:8080/"
        },
        "id": "hIpDd-Fx_Am2",
        "outputId": "aa1676b2-385b-4e91-d30a-e68baade1bd5"
      },
      "outputs": [
        {
          "output_type": "stream",
          "name": "stdout",
          "text": [
            "CSV file loaded successfully! Here are the first few rows:\n",
            "   invoice_number   invoice_time store_id  product_id  category_id  num_item  \\\n",
            "0    2.020000e+11  7/15/15 10:45     G816     7000300       210101       1.0   \n",
            "1    2.020000e+11  7/15/15 12:16     G816     7070884        70203       1.0   \n",
            "2    2.020000e+11  7/15/15 12:16     G816     7070884        70203       1.0   \n",
            "3    2.020000e+11  7/15/15 12:16     G816     7070891        70401       1.0   \n",
            "4    2.020000e+11  7/15/15 12:16     G816     7090363        70401       1.0   \n",
            "\n",
            "   price  \n",
            "0    2.0  \n",
            "1    2.0  \n",
            "2    2.0  \n",
            "3    6.0  \n",
            "4    6.0  \n"
          ]
        }
      ],
      "source": [
        "\n",
        "\n",
        "\n",
        "# Step 2: Import pandas\n",
        "import pandas as pd\n",
        "import numpy as np\n",
        "\n",
        "file_path = '/content/drive/MyDrive/asmaa_ahmed/Purchase_Data.csv'\n",
        "df = pd.read_csv(file_path)\n",
        "\n",
        "\n",
        "print(\"CSV file loaded successfully! Here are the first few rows:\")\n",
        "print(df.head())\n"
      ]
    },
    {
      "cell_type": "markdown",
      "metadata": {
        "id": "ADt74RQC_Am8"
      },
      "source": [
        "Use the dtypes attribute to view how each column is stored"
      ]
    },
    {
      "cell_type": "code",
      "source": [
        "from google.colab import drive\n",
        "drive.mount('/content/drive')"
      ],
      "metadata": {
        "id": "y0fbNIg9AdGL"
      },
      "execution_count": null,
      "outputs": []
    },
    {
      "cell_type": "code",
      "execution_count": 4,
      "metadata": {
        "jupyter": {
          "outputs_hidden": false
        },
        "id": "5RzI6OmB_Am9",
        "colab": {
          "base_uri": "https://localhost:8080/"
        },
        "outputId": "eac8d283-e366-4b86-d95f-38e86976f01f"
      },
      "outputs": [
        {
          "output_type": "stream",
          "name": "stdout",
          "text": [
            "invoice_number    float64\n",
            "invoice_time       object\n",
            "store_id           object\n",
            "product_id          int64\n",
            "category_id         int64\n",
            "num_item          float64\n",
            "price             float64\n",
            "dtype: object\n"
          ]
        }
      ],
      "source": [
        "#Write your code here\n",
        "print(df.dtypes)"
      ]
    },
    {
      "cell_type": "markdown",
      "metadata": {
        "id": "9y1a3scV_Am_"
      },
      "source": [
        "Slice the first two columns using .loc and store the result in a variable called result_1."
      ]
    },
    {
      "cell_type": "code",
      "execution_count": 5,
      "metadata": {
        "jupyter": {
          "outputs_hidden": false
        },
        "id": "DYurj8wJ_AnC",
        "colab": {
          "base_uri": "https://localhost:8080/"
        },
        "outputId": "45bba668-d21f-4bdd-f647-a90715e4d67b"
      },
      "outputs": [
        {
          "output_type": "stream",
          "name": "stdout",
          "text": [
            "      invoice_number   invoice_time\n",
            "0       2.020000e+11  7/15/15 10:45\n",
            "1       2.020000e+11  7/15/15 12:16\n",
            "2       2.020000e+11  7/15/15 12:16\n",
            "3       2.020000e+11  7/15/15 12:16\n",
            "4       2.020000e+11  7/15/15 12:16\n",
            "...              ...            ...\n",
            "5377    2.020000e+11   9/5/15 23:07\n",
            "5378    2.020000e+11   9/5/15 23:23\n",
            "5379    2.020000e+11   9/5/15 23:24\n",
            "5380    2.020000e+11   9/5/15 23:32\n",
            "5381    2.020000e+11   9/5/15 23:38\n",
            "\n",
            "[5382 rows x 2 columns]\n"
          ]
        }
      ],
      "source": [
        "#Write you code here\n",
        "result_1 = df.loc[:, df.columns[:2]]\n",
        "\n",
        "print(result_1)"
      ]
    },
    {
      "cell_type": "markdown",
      "metadata": {
        "id": "dbVomjK2_AnE"
      },
      "source": [
        "Slice the first two rows using .loc and store the result in a variable called result_2."
      ]
    },
    {
      "cell_type": "code",
      "execution_count": 6,
      "metadata": {
        "jupyter": {
          "outputs_hidden": false
        },
        "id": "WZHfb_F6_AnF",
        "colab": {
          "base_uri": "https://localhost:8080/"
        },
        "outputId": "aae47de7-59aa-48ae-bc5b-fcb097c95b5a"
      },
      "outputs": [
        {
          "output_type": "stream",
          "name": "stdout",
          "text": [
            "   invoice_number   invoice_time store_id  product_id  category_id  num_item  \\\n",
            "0    2.020000e+11  7/15/15 10:45     G816     7000300       210101       1.0   \n",
            "1    2.020000e+11  7/15/15 12:16     G816     7070884        70203       1.0   \n",
            "\n",
            "   price  \n",
            "0    2.0  \n",
            "1    2.0  \n"
          ]
        }
      ],
      "source": [
        "#Write you code here\n",
        "result_2 = df.loc[:1, :]\n",
        "print(result_2)"
      ]
    },
    {
      "cell_type": "markdown",
      "metadata": {
        "id": "AhWGhs4C_AnH"
      },
      "source": [
        "Slice the first four rows and the first five columns and store the result in a variable called result_3."
      ]
    },
    {
      "cell_type": "code",
      "execution_count": 7,
      "metadata": {
        "jupyter": {
          "outputs_hidden": false
        },
        "id": "pLePJ-Ic_AnI",
        "colab": {
          "base_uri": "https://localhost:8080/"
        },
        "outputId": "7ce07723-5007-465e-b6db-6df7ea90bc74"
      },
      "outputs": [
        {
          "output_type": "stream",
          "name": "stdout",
          "text": [
            "   invoice_number   invoice_time store_id  product_id  category_id\n",
            "0    2.020000e+11  7/15/15 10:45     G816     7000300       210101\n",
            "1    2.020000e+11  7/15/15 12:16     G816     7070884        70203\n",
            "2    2.020000e+11  7/15/15 12:16     G816     7070884        70203\n",
            "3    2.020000e+11  7/15/15 12:16     G816     7070891        70401\n"
          ]
        }
      ],
      "source": [
        "#Write your code here\n",
        "result_3 = df.loc[:3, df.columns[:5]]\n",
        "print(result_3)"
      ]
    },
    {
      "cell_type": "markdown",
      "metadata": {
        "id": "A6NmxzAC_AnJ"
      },
      "source": [
        "Slice rows 0,4,6 and columns invoice time and price and store the result in variable called result_4."
      ]
    },
    {
      "cell_type": "code",
      "source": [
        "print(df.columns)"
      ],
      "metadata": {
        "colab": {
          "base_uri": "https://localhost:8080/"
        },
        "id": "cch1sTE0E1LR",
        "outputId": "3c58b138-b4ec-4166-f517-f2a8bc42af4b"
      },
      "execution_count": 9,
      "outputs": [
        {
          "output_type": "stream",
          "name": "stdout",
          "text": [
            "Index(['invoice_number', 'invoice_time', 'store_id', 'product_id',\n",
            "       'category_id', 'num_item', 'price'],\n",
            "      dtype='object')\n"
          ]
        }
      ]
    },
    {
      "cell_type": "code",
      "execution_count": 10,
      "metadata": {
        "jupyter": {
          "outputs_hidden": false
        },
        "id": "oTVUvFL5_AnK",
        "colab": {
          "base_uri": "https://localhost:8080/"
        },
        "outputId": "10ce5c41-77ab-4fdc-d055-a5b5bc706e58"
      },
      "outputs": [
        {
          "output_type": "stream",
          "name": "stdout",
          "text": [
            "   invoice_number   invoice_time  price\n",
            "0    2.020000e+11  7/15/15 10:45    2.0\n",
            "4    2.020000e+11  7/15/15 12:16    6.0\n",
            "6    2.020000e+11  7/15/15 15:28    2.0\n"
          ]
        }
      ],
      "source": [
        "#Write your code here\n",
        "result_4 = df.loc[[0, 4, 6], [\"invoice_number\", \"invoice_time\", \"price\"]]\n",
        "\n",
        "print(result_4)"
      ]
    },
    {
      "cell_type": "markdown",
      "metadata": {
        "id": "kXOEpIwZ_AnK"
      },
      "source": [
        "Store the number rows in a variable called num_rows."
      ]
    },
    {
      "cell_type": "code",
      "execution_count": 11,
      "metadata": {
        "jupyter": {
          "outputs_hidden": false
        },
        "id": "8FC6ijaj_AnL",
        "colab": {
          "base_uri": "https://localhost:8080/"
        },
        "outputId": "e264a79c-93fd-4e06-d8ae-9ef78413ec96"
      },
      "outputs": [
        {
          "output_type": "stream",
          "name": "stdout",
          "text": [
            "5382\n"
          ]
        }
      ],
      "source": [
        "num_rows = len(df)\n",
        "print(num_rows)\n"
      ]
    },
    {
      "cell_type": "markdown",
      "metadata": {
        "id": "Xx6u67uR_AnL"
      },
      "source": [
        "Print out the last row of the data to dataframe. **Hint:** use the variable num_rows from the previous exercise."
      ]
    },
    {
      "cell_type": "code",
      "execution_count": 12,
      "metadata": {
        "jupyter": {
          "outputs_hidden": false
        },
        "id": "gIiK5X9S_AnM",
        "colab": {
          "base_uri": "https://localhost:8080/"
        },
        "outputId": "d41c325d-1920-48f8-e80b-fad5083d238a"
      },
      "outputs": [
        {
          "output_type": "stream",
          "name": "stdout",
          "text": [
            "      invoice_number  invoice_time store_id  product_id  category_id  \\\n",
            "5381    2.020000e+11  9/5/15 23:38     G619    23030206       210101   \n",
            "\n",
            "      num_item  price  \n",
            "5381       1.0    2.0  \n"
          ]
        }
      ],
      "source": [
        "#Write your code here\n",
        "last_row = df.loc[[num_rows - 1], :]\n",
        "print(last_row)"
      ]
    },
    {
      "cell_type": "markdown",
      "metadata": {
        "id": "pzTkMaj0_AnN"
      },
      "source": [
        "# Part 2"
      ]
    },
    {
      "cell_type": "markdown",
      "metadata": {
        "id": "YKd_JjsE_AnN"
      },
      "source": [
        "Compute the average and max price charged.  Store the results in variables called avg_price and max_price"
      ]
    },
    {
      "cell_type": "code",
      "execution_count": 13,
      "metadata": {
        "jupyter": {
          "outputs_hidden": false
        },
        "id": "7f1Qrp90_AnO",
        "colab": {
          "base_uri": "https://localhost:8080/"
        },
        "outputId": "acfffe0d-156f-4d1c-ce6b-a1599b236cd2"
      },
      "outputs": [
        {
          "output_type": "stream",
          "name": "stdout",
          "text": [
            "Average Price: 3.1920522110741363\n",
            "Maximum Price: 6.01\n"
          ]
        }
      ],
      "source": [
        "#Write your code here\n",
        "avg_price = df[\"price\"].mean()\n",
        "max_price = df[\"price\"].max()\n",
        "\n",
        "print(\"Average Price:\", avg_price)\n",
        "print(\"Maximum Price:\", max_price)"
      ]
    },
    {
      "cell_type": "markdown",
      "metadata": {
        "id": "ggOARY00_AnO"
      },
      "source": [
        "Compute the average price and average number of items purchased with only a single call to the mean() method. Store these averages in avg_price and avg_num_items."
      ]
    },
    {
      "cell_type": "code",
      "execution_count": 14,
      "metadata": {
        "jupyter": {
          "outputs_hidden": false
        },
        "id": "8gW8b2w8_AnQ",
        "colab": {
          "base_uri": "https://localhost:8080/"
        },
        "outputId": "430fe189-d7c9-496e-e142-aaec8e2c2894"
      },
      "outputs": [
        {
          "output_type": "stream",
          "name": "stdout",
          "text": [
            "Average Price: 3.1920522110741363\n",
            "Average Number of Items: 1.2983091787439613\n"
          ]
        }
      ],
      "source": [
        "#Write you code here\n",
        "averages = df[[\"price\", \"num_item\"]].mean()\n",
        "avg_price = averages[\"price\"]\n",
        "avg_num_items = averages[\"num_item\"]\n",
        "print(\"Average Price:\", avg_price)\n",
        "print(\"Average Number of Items:\", avg_num_items)"
      ]
    },
    {
      "cell_type": "markdown",
      "metadata": {
        "id": "KiZEQI8i_AnS"
      },
      "source": [
        "Create a column called \"total\", which is the product of the price and num_item columns."
      ]
    },
    {
      "cell_type": "code",
      "execution_count": 15,
      "metadata": {
        "jupyter": {
          "outputs_hidden": false
        },
        "id": "UgqC_zr7_AnT",
        "colab": {
          "base_uri": "https://localhost:8080/"
        },
        "outputId": "82527d05-07e9-40bf-a91f-9147e487364d"
      },
      "outputs": [
        {
          "output_type": "stream",
          "name": "stdout",
          "text": [
            "   invoice_number   invoice_time store_id  product_id  category_id  num_item  \\\n",
            "0    2.020000e+11  7/15/15 10:45     G816     7000300       210101       1.0   \n",
            "1    2.020000e+11  7/15/15 12:16     G816     7070884        70203       1.0   \n",
            "2    2.020000e+11  7/15/15 12:16     G816     7070884        70203       1.0   \n",
            "3    2.020000e+11  7/15/15 12:16     G816     7070891        70401       1.0   \n",
            "4    2.020000e+11  7/15/15 12:16     G816     7090363        70401       1.0   \n",
            "\n",
            "   price  total  \n",
            "0    2.0    2.0  \n",
            "1    2.0    2.0  \n",
            "2    2.0    2.0  \n",
            "3    6.0    6.0  \n",
            "4    6.0    6.0  \n"
          ]
        }
      ],
      "source": [
        "#Write your code here\n",
        "df[\"total\"] = df[\"price\"] * df[\"num_item\"]\n",
        "\n",
        "print(df.head())"
      ]
    },
    {
      "cell_type": "markdown",
      "metadata": {
        "id": "9woVum1D_AnT"
      },
      "source": [
        "What is the avgerage price of the three most expensive purchases?"
      ]
    },
    {
      "cell_type": "code",
      "execution_count": 18,
      "metadata": {
        "jupyter": {
          "outputs_hidden": false
        },
        "id": "GNPnj7H7_AnU",
        "colab": {
          "base_uri": "https://localhost:8080/"
        },
        "outputId": "6b162092-3f32-4c94-dbf9-154e493fad77"
      },
      "outputs": [
        {
          "output_type": "stream",
          "name": "stdout",
          "text": [
            "6.003333333333333\n"
          ]
        }
      ],
      "source": [
        "#Write your code here\n",
        "avg_top3_price = df[\"price\"].nlargest(3).mean()\n",
        "print( avg_top3_price)"
      ]
    },
    {
      "cell_type": "markdown",
      "metadata": {
        "id": "DceaZWzd_AnU"
      },
      "source": [
        "How many different products are there?"
      ]
    },
    {
      "cell_type": "code",
      "execution_count": 19,
      "metadata": {
        "jupyter": {
          "outputs_hidden": false
        },
        "id": "2IhYXL76_AnU",
        "colab": {
          "base_uri": "https://localhost:8080/"
        },
        "outputId": "998e8a50-4d09-4775-9bb5-80d9a13e0243"
      },
      "outputs": [
        {
          "output_type": "stream",
          "name": "stdout",
          "text": [
            "53\n"
          ]
        }
      ],
      "source": [
        "#Write your code here\n",
        "num_products = df[\"product_id\"].nunique()\n",
        "print( num_products)"
      ]
    },
    {
      "cell_type": "markdown",
      "metadata": {
        "id": "xOrdcuRR_AnV"
      },
      "source": [
        "Find the difference between the mean and median of the column total.  Use the describe() method and then index the dataframe it returns."
      ]
    },
    {
      "cell_type": "code",
      "execution_count": 20,
      "metadata": {
        "jupyter": {
          "outputs_hidden": false
        },
        "id": "bO-_QIbj_AnV",
        "colab": {
          "base_uri": "https://localhost:8080/"
        },
        "outputId": "bb4e399c-6f47-4b54-ca57-d397ff221001"
      },
      "outputs": [
        {
          "output_type": "stream",
          "name": "stdout",
          "text": [
            "0.9318078781127839\n"
          ]
        }
      ],
      "source": [
        "#Write your code here\n",
        "stats = df[\"total\"].describe()\n",
        "mean_total = stats[\"mean\"]\n",
        "median_total = stats[\"50%\"]\n",
        "\n",
        "diff_mean_median = mean_total - median_total\n",
        "print( diff_mean_median)"
      ]
    },
    {
      "cell_type": "markdown",
      "metadata": {
        "id": "MF5jIFM7_AnW"
      },
      "source": [
        "Use the drop() method to delete the column total from the dataframe df_data."
      ]
    },
    {
      "cell_type": "code",
      "execution_count": 21,
      "metadata": {
        "jupyter": {
          "outputs_hidden": false
        },
        "id": "9iIsSQjQ_AnW",
        "colab": {
          "base_uri": "https://localhost:8080/"
        },
        "outputId": "57650a40-da24-48ad-8d18-72ec2d494ef6"
      },
      "outputs": [
        {
          "output_type": "stream",
          "name": "stdout",
          "text": [
            "   invoice_number   invoice_time store_id  product_id  category_id  num_item  \\\n",
            "0    2.020000e+11  7/15/15 10:45     G816     7000300       210101       1.0   \n",
            "1    2.020000e+11  7/15/15 12:16     G816     7070884        70203       1.0   \n",
            "2    2.020000e+11  7/15/15 12:16     G816     7070884        70203       1.0   \n",
            "3    2.020000e+11  7/15/15 12:16     G816     7070891        70401       1.0   \n",
            "4    2.020000e+11  7/15/15 12:16     G816     7090363        70401       1.0   \n",
            "\n",
            "   price  \n",
            "0    2.0  \n",
            "1    2.0  \n",
            "2    2.0  \n",
            "3    6.0  \n",
            "4    6.0  \n"
          ]
        }
      ],
      "source": [
        "#Write your code here\n",
        "df_data = df.drop(\"total\", axis=1)\n",
        "print(df_data.head())"
      ]
    },
    {
      "cell_type": "markdown",
      "metadata": {
        "id": "kXxMk6Pq_AnX"
      },
      "source": [
        "Let's dig a little deeper into the data set and answer some basic question."
      ]
    },
    {
      "cell_type": "code",
      "execution_count": 22,
      "metadata": {
        "jupyter": {
          "outputs_hidden": false
        },
        "id": "yl_Elf6O_AnX"
      },
      "outputs": [],
      "source": [
        "#Write your code here\n",
        "df.drop(\"total\", axis=1, inplace=True)"
      ]
    },
    {
      "cell_type": "markdown",
      "metadata": {
        "id": "prx3Ax3F_AnY"
      },
      "source": [
        "First, covert the column invoice time to a datetime column. Print out the new column types to make sure this was done correctly"
      ]
    },
    {
      "cell_type": "code",
      "execution_count": 23,
      "metadata": {
        "jupyter": {
          "outputs_hidden": false
        },
        "id": "F31wylYG_AnY",
        "colab": {
          "base_uri": "https://localhost:8080/"
        },
        "outputId": "9eaa4686-a35e-4a29-cda5-6cc42484bcb0"
      },
      "outputs": [
        {
          "output_type": "stream",
          "name": "stderr",
          "text": [
            "/tmp/ipython-input-496183982.py:2: UserWarning: Could not infer format, so each element will be parsed individually, falling back to `dateutil`. To ensure parsing is consistent and as-expected, please specify a format.\n",
            "  df[\"invoice_time\"] = pd.to_datetime(df[\"invoice_time\"])\n"
          ]
        },
        {
          "output_type": "stream",
          "name": "stdout",
          "text": [
            "invoice_number           float64\n",
            "invoice_time      datetime64[ns]\n",
            "store_id                  object\n",
            "product_id                 int64\n",
            "category_id                int64\n",
            "num_item                 float64\n",
            "price                    float64\n",
            "dtype: object\n"
          ]
        }
      ],
      "source": [
        "#Write your code here\n",
        "df[\"invoice_time\"] = pd.to_datetime(df[\"invoice_time\"])\n",
        "print(df.dtypes)"
      ]
    },
    {
      "cell_type": "markdown",
      "metadata": {
        "id": "dZ6PXPUf_AnY"
      },
      "source": [
        "Next, let's create columns called \"DOW\" and \"Month\", which store the corresponding weekday and month of the invoice respectively.  Print the head of the dataframe to make sure this was done correctly."
      ]
    },
    {
      "cell_type": "code",
      "execution_count": 24,
      "metadata": {
        "jupyter": {
          "outputs_hidden": false
        },
        "id": "9dIBrC1b_AnZ",
        "colab": {
          "base_uri": "https://localhost:8080/"
        },
        "outputId": "7175dba2-998c-4c59-af83-8b588f753447"
      },
      "outputs": [
        {
          "output_type": "stream",
          "name": "stdout",
          "text": [
            "   invoice_number        invoice_time store_id  product_id  category_id  \\\n",
            "0    2.020000e+11 2015-07-15 10:45:00     G816     7000300       210101   \n",
            "1    2.020000e+11 2015-07-15 12:16:00     G816     7070884        70203   \n",
            "2    2.020000e+11 2015-07-15 12:16:00     G816     7070884        70203   \n",
            "3    2.020000e+11 2015-07-15 12:16:00     G816     7070891        70401   \n",
            "4    2.020000e+11 2015-07-15 12:16:00     G816     7090363        70401   \n",
            "\n",
            "   num_item  price        DOW Month  \n",
            "0       1.0    2.0  Wednesday  July  \n",
            "1       1.0    2.0  Wednesday  July  \n",
            "2       1.0    2.0  Wednesday  July  \n",
            "3       1.0    6.0  Wednesday  July  \n",
            "4       1.0    6.0  Wednesday  July  \n"
          ]
        }
      ],
      "source": [
        "#Write your code here\n",
        "df[\"DOW\"] = df[\"invoice_time\"].dt.day_name()\n",
        "df[\"Month\"] = df[\"invoice_time\"].dt.month_name()\n",
        "print(df.head())"
      ]
    },
    {
      "cell_type": "markdown",
      "metadata": {
        "id": "7VPbsEdw_AnZ"
      },
      "source": [
        "Create a variable called num_purchases_wed, which stores the number of purchases made on Wednesday?  You should use value_counts and then index the series it return."
      ]
    },
    {
      "cell_type": "code",
      "execution_count": 25,
      "metadata": {
        "jupyter": {
          "outputs_hidden": false
        },
        "id": "7BaUTxi7_Anm",
        "colab": {
          "base_uri": "https://localhost:8080/"
        },
        "outputId": "ab20157f-6caa-4c7b-f8d1-aaff003be470"
      },
      "outputs": [
        {
          "output_type": "stream",
          "name": "stdout",
          "text": [
            "959\n"
          ]
        }
      ],
      "source": [
        "#Write your code here\n",
        "num_purchases_wed = df[\"DOW\"].value_counts()[\"Wednesday\"]\n",
        "print( num_purchases_wed)"
      ]
    },
    {
      "cell_type": "markdown",
      "metadata": {
        "id": "QT1bbuht_Ann"
      },
      "source": [
        "# Part 3"
      ]
    },
    {
      "cell_type": "markdown",
      "metadata": {
        "id": "NxqVcTlo_Ann"
      },
      "source": [
        "In this set of practice exercises, we will be working with a demographic data regarding the passengers aboard the Titanic.  Read in the data frame and use the head() method to check that it was read in correctly."
      ]
    },
    {
      "cell_type": "code",
      "execution_count": 26,
      "metadata": {
        "jupyter": {
          "outputs_hidden": false
        },
        "id": "QG501Rm__Ano",
        "colab": {
          "base_uri": "https://localhost:8080/"
        },
        "outputId": "817d8a7f-202c-45f0-a3a8-cab9097caac3"
      },
      "outputs": [
        {
          "output_type": "stream",
          "name": "stdout",
          "text": [
            "CSV file loaded successfully! Here are the first few rows:\n",
            "   PassengerId  Pclass                                          Name     Sex  \\\n",
            "0          892       3                              Kelly, Mr. James    male   \n",
            "1          893       3              Wilkes, Mrs. James (Ellen Needs)  female   \n",
            "2          894       2                     Myles, Mr. Thomas Francis    male   \n",
            "3          895       3                              Wirz, Mr. Albert    male   \n",
            "4          896       3  Hirvonen, Mrs. Alexander (Helga E Lindqvist)  female   \n",
            "\n",
            "    Age  SibSp  Parch   Ticket     Fare Cabin Embarked  \n",
            "0  34.5      0      0   330911   7.8292   NaN        Q  \n",
            "1  47.0      1      0   363272   7.0000   NaN        S  \n",
            "2  62.0      0      0   240276   9.6875   NaN        Q  \n",
            "3  27.0      0      0   315154   8.6625   NaN        S  \n",
            "4  22.0      1      1  3101298  12.2875   NaN        S  \n"
          ]
        }
      ],
      "source": [
        "#Write your code here\n",
        "file_path = '/content/drive/MyDrive/asmaa_ahmed/Titanic.csv'\n",
        "df = pd.read_csv(file_path)\n",
        "\n",
        "\n",
        "print(\"CSV file loaded successfully! Here are the first few rows:\")\n",
        "print(df.head())"
      ]
    },
    {
      "cell_type": "markdown",
      "metadata": {
        "id": "c61_x1KK_Ano"
      },
      "source": [
        "Use the rename method to change the column \"Name\" to \"Passenger_Name\" and the column \"Ticket\" to \"Ticket_Num\"."
      ]
    },
    {
      "cell_type": "code",
      "execution_count": 28,
      "metadata": {
        "jupyter": {
          "outputs_hidden": false
        },
        "id": "ibLt6FuP_Anp",
        "colab": {
          "base_uri": "https://localhost:8080/"
        },
        "outputId": "d972d1f1-12c3-45df-cb00-e37f3565b0a6"
      },
      "outputs": [
        {
          "output_type": "stream",
          "name": "stdout",
          "text": [
            "   PassengerId  Pclass                                Passenger_Name     Sex  \\\n",
            "0          892       3                              Kelly, Mr. James    male   \n",
            "1          893       3              Wilkes, Mrs. James (Ellen Needs)  female   \n",
            "2          894       2                     Myles, Mr. Thomas Francis    male   \n",
            "3          895       3                              Wirz, Mr. Albert    male   \n",
            "4          896       3  Hirvonen, Mrs. Alexander (Helga E Lindqvist)  female   \n",
            "\n",
            "    Age  SibSp  Parch Ticket_Num     Fare Cabin Embarked  \n",
            "0  34.5      0      0     330911   7.8292   NaN        Q  \n",
            "1  47.0      1      0     363272   7.0000   NaN        S  \n",
            "2  62.0      0      0     240276   9.6875   NaN        Q  \n",
            "3  27.0      0      0     315154   8.6625   NaN        S  \n",
            "4  22.0      1      1    3101298  12.2875   NaN        S  \n"
          ]
        }
      ],
      "source": [
        "#Write your code here\n",
        "df_titanic = df.rename(columns={\n",
        "    \"Name\": \"Passenger_Name\",\n",
        "    \"Ticket\": \"Ticket_Num\"\n",
        "})\n",
        "print(df_titanic.head())"
      ]
    },
    {
      "cell_type": "markdown",
      "metadata": {
        "id": "99p4tjWs_Anp"
      },
      "source": [
        "Change the index of the df_titanic to the column PasengerID."
      ]
    },
    {
      "cell_type": "code",
      "execution_count": 29,
      "metadata": {
        "jupyter": {
          "outputs_hidden": false
        },
        "scrolled": true,
        "id": "tTQmeQgA_Anq",
        "colab": {
          "base_uri": "https://localhost:8080/"
        },
        "outputId": "cf3b574b-45fa-49fe-a034-f9f1e13b0ac2"
      },
      "outputs": [
        {
          "output_type": "stream",
          "name": "stdout",
          "text": [
            "             Pclass                                          Name     Sex  \\\n",
            "PassengerId                                                                 \n",
            "892               3                              Kelly, Mr. James    male   \n",
            "893               3              Wilkes, Mrs. James (Ellen Needs)  female   \n",
            "894               2                     Myles, Mr. Thomas Francis    male   \n",
            "895               3                              Wirz, Mr. Albert    male   \n",
            "896               3  Hirvonen, Mrs. Alexander (Helga E Lindqvist)  female   \n",
            "\n",
            "              Age  SibSp  Parch   Ticket     Fare Cabin Embarked  \n",
            "PassengerId                                                       \n",
            "892          34.5      0      0   330911   7.8292   NaN        Q  \n",
            "893          47.0      1      0   363272   7.0000   NaN        S  \n",
            "894          62.0      0      0   240276   9.6875   NaN        Q  \n",
            "895          27.0      0      0   315154   8.6625   NaN        S  \n",
            "896          22.0      1      1  3101298  12.2875   NaN        S  \n"
          ]
        }
      ],
      "source": [
        "#Write your code here\n",
        "df_titanic = df.set_index(\"PassengerId\")\n",
        "print(df_titanic.head())"
      ]
    },
    {
      "cell_type": "markdown",
      "metadata": {
        "id": "foGpi6hW_Anq"
      },
      "source": [
        "Select the name of passenger 896"
      ]
    },
    {
      "cell_type": "code",
      "source": [
        "df.columns"
      ],
      "metadata": {
        "colab": {
          "base_uri": "https://localhost:8080/"
        },
        "id": "Skbj2MthMI3D",
        "outputId": "9215456a-0633-4592-dd08-df5cf235da81"
      },
      "execution_count": 33,
      "outputs": [
        {
          "output_type": "execute_result",
          "data": {
            "text/plain": [
              "Index(['PassengerId', 'Pclass', 'Name', 'Sex', 'Age', 'SibSp', 'Parch',\n",
              "       'Ticket', 'Fare', 'Cabin', 'Embarked'],\n",
              "      dtype='object')"
            ]
          },
          "metadata": {},
          "execution_count": 33
        }
      ]
    },
    {
      "cell_type": "code",
      "execution_count": 37,
      "metadata": {
        "jupyter": {
          "outputs_hidden": false
        },
        "id": "Nbmoxt58_Anq"
      },
      "outputs": [],
      "source": [
        "#Write your code here\n"
      ]
    },
    {
      "cell_type": "markdown",
      "metadata": {
        "id": "ycO5I1nd_Anr"
      },
      "source": [
        "Change the index back to row numbers but making sure that we don't lose the PassengerId column."
      ]
    },
    {
      "cell_type": "code",
      "execution_count": 38,
      "metadata": {
        "jupyter": {
          "outputs_hidden": false
        },
        "id": "7qpIRKbs_Anr",
        "colab": {
          "base_uri": "https://localhost:8080/"
        },
        "outputId": "dc5d98f2-f37b-4a50-ea48-e68c17f5a157"
      },
      "outputs": [
        {
          "output_type": "stream",
          "name": "stdout",
          "text": [
            "   PassengerId  Pclass                                          Name     Sex  \\\n",
            "0          892       3                              Kelly, Mr. James    male   \n",
            "1          893       3              Wilkes, Mrs. James (Ellen Needs)  female   \n",
            "2          894       2                     Myles, Mr. Thomas Francis    male   \n",
            "3          895       3                              Wirz, Mr. Albert    male   \n",
            "4          896       3  Hirvonen, Mrs. Alexander (Helga E Lindqvist)  female   \n",
            "\n",
            "    Age  SibSp  Parch   Ticket     Fare Cabin Embarked  \n",
            "0  34.5      0      0   330911   7.8292   NaN        Q  \n",
            "1  47.0      1      0   363272   7.0000   NaN        S  \n",
            "2  62.0      0      0   240276   9.6875   NaN        Q  \n",
            "3  27.0      0      0   315154   8.6625   NaN        S  \n",
            "4  22.0      1      1  3101298  12.2875   NaN        S  \n"
          ]
        }
      ],
      "source": [
        "#Write your code here\n",
        "df_titanic.reset_index(inplace=True)\n",
        "print(df_titanic.head())"
      ]
    },
    {
      "cell_type": "markdown",
      "metadata": {
        "id": "PN-7Hl_y_Ans"
      },
      "source": [
        "How many missing entries are there in the Age column? Use the isnull() method and recall than Booleans are exactly like 1s (True) and 0s (False)."
      ]
    },
    {
      "cell_type": "code",
      "execution_count": 39,
      "metadata": {
        "jupyter": {
          "outputs_hidden": false
        },
        "id": "RDvqS0Ex_Ant",
        "colab": {
          "base_uri": "https://localhost:8080/"
        },
        "outputId": "de35958b-5837-4ae9-c754-f8568cc30777"
      },
      "outputs": [
        {
          "output_type": "stream",
          "name": "stdout",
          "text": [
            "Number of missing Age values: 86\n"
          ]
        }
      ],
      "source": [
        "#Write you code here\n",
        "missing_age = df_titanic[\"Age\"].isnull().sum()\n",
        "print(\"Number of missing Age values:\", missing_age)"
      ]
    },
    {
      "cell_type": "markdown",
      "metadata": {
        "id": "Iy4jUXKF_Anu"
      },
      "source": [
        "Compute the avg age of passengers ignoring the missing data."
      ]
    },
    {
      "cell_type": "code",
      "execution_count": null,
      "metadata": {
        "jupyter": {
          "outputs_hidden": false
        },
        "id": "m86st2ut_Anu"
      },
      "outputs": [],
      "source": [
        "#Write your code here\n"
      ]
    },
    {
      "cell_type": "markdown",
      "metadata": {
        "id": "FMJ6Vakm_Anv"
      },
      "source": [
        "Using the fillna() method replace the missing values in the Age column with the mean."
      ]
    },
    {
      "cell_type": "code",
      "execution_count": null,
      "metadata": {
        "jupyter": {
          "outputs_hidden": false
        },
        "id": "W6kdIyqq_Anw"
      },
      "outputs": [],
      "source": [
        "#Write your code here\n"
      ]
    },
    {
      "cell_type": "markdown",
      "metadata": {
        "id": "h1atCMKL_Anw"
      },
      "source": [
        "What is the average age of the 5 oldest passengers? The reset_index method will be helpful here."
      ]
    },
    {
      "cell_type": "code",
      "execution_count": null,
      "metadata": {
        "jupyter": {
          "outputs_hidden": false
        },
        "id": "jIrBZJYb_Anx"
      },
      "outputs": [],
      "source": [
        "#Write your code here\n"
      ]
    }
  ],
  "metadata": {
    "kernelspec": {
      "display_name": "Python [conda env:base] *",
      "language": "python",
      "name": "conda-base-py"
    },
    "language_info": {
      "codemirror_mode": {
        "name": "ipython",
        "version": 3
      },
      "file_extension": ".py",
      "mimetype": "text/x-python",
      "name": "python",
      "nbconvert_exporter": "python",
      "pygments_lexer": "ipython3",
      "version": "3.12.7"
    },
    "toc": {
      "nav_menu": {
        "height": "48px",
        "width": "252px"
      },
      "number_sections": true,
      "sideBar": true,
      "skip_h1_title": false,
      "toc_cell": false,
      "toc_position": {},
      "toc_section_display": "block",
      "toc_window_display": false
    },
    "colab": {
      "provenance": [],
      "include_colab_link": true
    }
  },
  "nbformat": 4,
  "nbformat_minor": 0
}