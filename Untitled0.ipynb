{
  "nbformat": 4,
  "nbformat_minor": 0,
  "metadata": {
    "colab": {
      "provenance": [],
      "authorship_tag": "ABX9TyMZNuZ1GvjxvFZ83Gr+t3XQ",
      "include_colab_link": true
    },
    "kernelspec": {
      "name": "python3",
      "display_name": "Python 3"
    },
    "language_info": {
      "name": "python"
    }
  },
  "cells": [
    {
      "cell_type": "markdown",
      "metadata": {
        "id": "view-in-github",
        "colab_type": "text"
      },
      "source": [
        "<a href=\"https://colab.research.google.com/github/asmaaahmedm/lab/blob/main/Untitled0.ipynb\" target=\"_parent\"><img src=\"https://colab.research.google.com/assets/colab-badge.svg\" alt=\"Open In Colab\"/></a>"
      ]
    },
    {
      "cell_type": "code",
      "execution_count": null,
      "metadata": {
        "colab": {
          "base_uri": "https://localhost:8080/"
        },
        "id": "QSnoCmZrkpFA",
        "outputId": "f3c9676b-6983-401e-b3bc-7e1f0c4e05f8"
      },
      "outputs": [
        {
          "output_type": "stream",
          "name": "stdout",
          "text": [
            "7\n",
            "-1\n",
            "17\n",
            "27\n",
            "1\n",
            "1\n",
            "2\n"
          ]
        }
      ],
      "source": [
        "num1=3\n",
        "num2=4\n",
        "num3=5\n",
        "print(num1+num2)\n",
        "print(num1-num2)\n",
        "print(num1*num2+num3)\n",
        "print(num1*(num2+num3))\n",
        "print(int(num3/num1))\n",
        "print(num3//num1)\n",
        "print(num3%num1)"
      ]
    },
    {
      "cell_type": "code",
      "source": [
        "num1, num2, num3 = 3.0, 4.0, 5.0\n",
        "print( num1 + num2)\n",
        "print( num3 - num1)\n",
        "print( num1 * num2 + num3)\n",
        "print( num1 * (num2 + num3))\n",
        "print( num3 / num1)\n",
        "print( num3 // num1)\n",
        "print( num3 % num1)"
      ],
      "metadata": {
        "colab": {
          "base_uri": "https://localhost:8080/"
        },
        "id": "aGRe4gWto4Mw",
        "outputId": "949aaeec-72c8-44e5-cba7-f5a6b1d5d244"
      },
      "execution_count": null,
      "outputs": [
        {
          "output_type": "stream",
          "name": "stdout",
          "text": [
            "7.0\n",
            "2.0\n",
            "17.0\n",
            "27.0\n",
            "1.6666666666666667\n",
            "1.0\n",
            "2.0\n"
          ]
        }
      ]
    },
    {
      "cell_type": "code",
      "source": [
        "x, y, z, g = 1, 2, 3, 4\n",
        "print( x + y * z / g)\n",
        "print( y ** z)"
      ],
      "metadata": {
        "colab": {
          "base_uri": "https://localhost:8080/"
        },
        "id": "lCI3ixQ3q85G",
        "outputId": "00a99c9b-21a5-43cb-9b4d-dfde0bfb3dc1"
      },
      "execution_count": null,
      "outputs": [
        {
          "output_type": "stream",
          "name": "stdout",
          "text": [
            "2.5\n",
            "8\n"
          ]
        }
      ]
    },
    {
      "cell_type": "code",
      "source": [
        "str_a = \"Python\"\n",
        "str_b = \"is a\"\n",
        "str_c = \"times fun language\"\n",
        "num = 1000\n",
        "str_ab = str_a + \" \" + str_b + \" \" + str(num) + \" \" + str_c\n",
        "print( str_ab)\n",
        "str_a10 = str_a * 10\n",
        "print( str_a10)"
      ],
      "metadata": {
        "colab": {
          "base_uri": "https://localhost:8080/"
        },
        "id": "WAGNMe6uq8xx",
        "outputId": "a88012d8-1e01-4787-e6fa-e24d4b8a10c7"
      },
      "execution_count": null,
      "outputs": [
        {
          "output_type": "stream",
          "name": "stdout",
          "text": [
            "Python is a 1000 times fun language\n",
            "PythonPythonPythonPythonPythonPythonPythonPythonPythonPython\n"
          ]
        }
      ]
    },
    {
      "cell_type": "code",
      "source": [
        "num = int(input(\"Enter a number: \"))\n",
        "if num % 2 == 0:\n",
        "    print(\"Even\")\n",
        "else:\n",
        "    print(\"Odd\")"
      ],
      "metadata": {
        "colab": {
          "base_uri": "https://localhost:8080/"
        },
        "id": "iznqSM8PsOwP",
        "outputId": "ec3fcd84-7daa-4d16-84fc-3927ee41af79"
      },
      "execution_count": null,
      "outputs": [
        {
          "output_type": "stream",
          "name": "stdout",
          "text": [
            "Enter a number: 6\n",
            "Even\n"
          ]
        }
      ]
    },
    {
      "cell_type": "code",
      "source": [
        "score = int(input(\"Enter student score (0-100): \"))\n",
        "if score >= 50:\n",
        "    print(\"Pass\")\n",
        "else:\n",
        "    print(\"Fail\")\n"
      ],
      "metadata": {
        "colab": {
          "base_uri": "https://localhost:8080/"
        },
        "id": "EIAQ5HzMt7AH",
        "outputId": "b2ccc183-bb82-4199-c1d3-03823407f576"
      },
      "execution_count": null,
      "outputs": [
        {
          "output_type": "stream",
          "name": "stdout",
          "text": [
            "Enter student score (0-100): 90\n",
            "Pass\n"
          ]
        }
      ]
    },
    {
      "cell_type": "code",
      "source": [
        "a =input(\"Enter first number: \")\n",
        "b =input(\"Enter second number: \")\n",
        "c =input(\"Enter third number: \")\n",
        "print(\"Largest number is:\", max(a, b, c))\n"
      ],
      "metadata": {
        "colab": {
          "base_uri": "https://localhost:8080/"
        },
        "id": "EtTnO9BwuZU9",
        "outputId": "746f936e-fbc4-40a5-9f8c-a25057c5e4ce"
      },
      "execution_count": null,
      "outputs": [
        {
          "output_type": "stream",
          "name": "stdout",
          "text": [
            "Enter first number: 4\n",
            "Enter second number: 5\n",
            "Enter third number: 6\n",
            "Largest number is: 6\n"
          ]
        }
      ]
    },
    {
      "cell_type": "code",
      "source": [
        "grade_score = int(input(\"Enter score (0-100): \"))\n",
        "if 90 <= grade_score <= 100:\n",
        "    print(\"Grade: A\")\n",
        "elif 80 <= grade_score <= 89:\n",
        "    print(\"Grade: B\")\n",
        "elif 70 <= grade_score <= 79:\n",
        "    print(\"Grade: C\")\n",
        "elif 60 <= grade_score <= 69:\n",
        "    print(\"Grade: D\")\n",
        "else:\n",
        "    print(\"Grade: F\")"
      ],
      "metadata": {
        "colab": {
          "base_uri": "https://localhost:8080/"
        },
        "id": "v3SakTvfvAF-",
        "outputId": "e07f108a-f9b8-4bbd-8ddf-792170e1de86"
      },
      "execution_count": null,
      "outputs": [
        {
          "output_type": "stream",
          "name": "stdout",
          "text": [
            "Enter score (0-100): 70\n",
            "Grade: C\n"
          ]
        }
      ]
    },
    {
      "cell_type": "code",
      "source": [
        "num_table = input(\"Enter a number for multiplication table: \")\n",
        "for i in range(1, 11):\n",
        "    print(num_table * i)"
      ],
      "metadata": {
        "colab": {
          "base_uri": "https://localhost:8080/"
        },
        "id": "mw72UYUcvm_o",
        "outputId": "3195247b-fd58-48bd-b06d-3a54e8797d09"
      },
      "execution_count": null,
      "outputs": [
        {
          "output_type": "stream",
          "name": "stdout",
          "text": [
            "Enter a number for multiplication table: 2\n",
            "2\n",
            "22\n",
            "222\n",
            "2222\n",
            "22222\n",
            "222222\n",
            "2222222\n",
            "22222222\n",
            "222222222\n",
            "2222222222\n"
          ]
        }
      ]
    },
    {
      "cell_type": "code",
      "source": [
        "sum_even = 0\n",
        "for i in range(1, 51):\n",
        "    if i % 2 == 0:\n",
        "        sum_even += i\n",
        "print(\"Sum of even numbers from 1 to 50:\", sum_even)"
      ],
      "metadata": {
        "colab": {
          "base_uri": "https://localhost:8080/"
        },
        "id": "mRMrguGNxCu5",
        "outputId": "c1b9b278-e320-4c79-9405-0c05b6565cd6"
      },
      "execution_count": null,
      "outputs": [
        {
          "output_type": "stream",
          "name": "stdout",
          "text": [
            "Sum of even numbers from 1 to 50: 650\n"
          ]
        }
      ]
    },
    {
      "cell_type": "code",
      "source": [
        "fact_num = int(input(\"Enter a number to find factorial: \"))\n",
        "fact = 1\n",
        "count = 1\n",
        "while count <= fact_num:\n",
        "    fact *= count\n",
        "    count += 1\n",
        "print(f\"Factorial of {fact_num} is {fact}\")"
      ],
      "metadata": {
        "colab": {
          "base_uri": "https://localhost:8080/"
        },
        "id": "H5WjGcgd0l4d",
        "outputId": "5bdf404a-b928-455e-90d5-9c628da1a458"
      },
      "execution_count": null,
      "outputs": [
        {
          "output_type": "stream",
          "name": "stdout",
          "text": [
            "Enter a number to find factorial: 5\n",
            "Factorial of 5 is 120\n"
          ]
        }
      ]
    },
    {
      "cell_type": "code",
      "source": [],
      "metadata": {
        "id": "O2JRR5i-4gHW"
      },
      "execution_count": null,
      "outputs": []
    }
  ]
}